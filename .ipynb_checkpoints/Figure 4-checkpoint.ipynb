{
 "cells": [
  {
   "cell_type": "code",
   "execution_count": 1,
   "metadata": {},
   "outputs": [],
   "source": [
    "import pandas as pd\n",
    "import numpy as np\n",
    "import matplotlib.pyplot as plt\n",
    "import seaborn as sns"
   ]
  },
  {
   "cell_type": "markdown",
   "metadata": {},
   "source": [
    "<h1>Figure 4</h1>\n",
    "<h2>Gene replacement assays</h2>\n",
    "<p>As a diagnostic test for identifying mRNAs controlled by decoding speed, pairs of natural and codon-optimised genes were compared for protein expression levels (the assumption being that if decoding speed is limiting, improving codon usage and deocding pseed should reaulst in increased protein expression levles).</p>\n",
    "<p>The following genes were used (given with transcription start and stop sites used to generate the transcript sequences for these genes):</p>\n",
    "<table>\n",
    "    <tr>\n",
    "        <th>Gene</th>\n",
    "        <th>ORF</th>\n",
    "        <th>5'-UTR start</th>\n",
    "        <th>3'-UTR end</th>\n",
    "    </tr>\n",
    "    <tr>\n",
    "        <td><a href=\"https://www.yeastgenome.org/locus/S000005654\" target=_blank></a><i>ADE2</i></td>\n",
    "        <td>YOR128C</td>\n",
    "        <td>-39</td>\n",
    "        <td>+55</td>\n",
    "    </tr>\n",
    "    <tr>\n",
    "        <td><a href=\"https://www.yeastgenome.org/locus/S000000595\" target=_blank></a><i>CDC10</i></td>\n",
    "        <td>YCR002C</td>\n",
    "        <td>-45</td>\n",
    "        <td>+40</td>\n",
    "    </tr>\n",
    "    <tr>\n",
    "        <td><a href=\"https://www.yeastgenome.org/locus/S000005980\" target=_blank></a><i>GRX5</i></td>\n",
    "        <td>YPL059W</td>\n",
    "        <td>-62</td>\n",
    "        <td>+137</td>\n",
    "    </tr>\n",
    "    <tr>\n",
    "        <td><a href=\"https://www.yeastgenome.org/locus/S000005728\" target=_blank></a><i>HIS3</i></td>\n",
    "        <td>YOR202W</td>\n",
    "        <td>-10</td>\n",
    "        <td>+82</td>\n",
    "    </tr>\n",
    "    <tr>\n",
    "        <td><a href=\"https://www.yeastgenome.org/locus/S000003059\" target=_blank></a><i>NBP35</i></td>\n",
    "        <td>YGL091C</td>\n",
    "        <td>-80</td>\n",
    "        <td>+136</td>\n",
    "    </tr>\n",
    "    <tr>\n",
    "        <td><a href=\"https://www.yeastgenome.org/locus/S000005042\" target=_blank></a><i>RAS2</i></td>\n",
    "        <td>YNL098C</td>\n",
    "        <td>-236</td>\n",
    "        <td>+97</td>\n",
    "    </tr>\n",
    "    <tr>\n",
    "        <td><a href=\"https://www.yeastgenome.org/locus/S000002579\" target=_blank></a><i>SUP35</i></td>\n",
    "        <td>YDR172W</td>\n",
    "        <td>-53</td>\n",
    "        <td>+178</td>\n",
    "    </tr>\n",
    "</table>\n",
    "<p>The otimised and non-optimised transcript sequences can be found in file <a href=\"_Data/An_opt_Sequences.fasta\" target=_blank>An_opt_Sequences.fasta</a>. Lower case parts of the sequences identify the codon optimised ORFs.</p>"
   ]
  },
  {
   "cell_type": "markdown",
   "metadata": {},
   "source": [
    "<h2>RNA stability differences</h2>\n",
    "<p>All sequences were analysed via the <a href=\"http://rna.tbi.univie.ac.at/cgi-bin/RNAWebSuite/RNAfold.cgi\" target=_blank>RNAfold web server</a>. </p>\n",
    "<table>\n",
    "    <tr>\n",
    "        <th>Gene</th>\n",
    "        <th>Minimum Free Energy wt gene</th>\n",
    "        <th>Minimum Free Energy opt gene</th>\n",
    "        <th>Ensemble energy wt gene</th>\n",
    "        <th>Ensemble energy opt gene</th>\n",
    "    </tr>\n",
    "    <tr>\n",
    "        <td><i>ADE2</i></td>\n",
    "        <td>-436.50</td>\n",
    "        <td>-513.80</td>\n",
    "        <td>-470.95</td>\n",
    "        <td>-547.88</td>\n",
    "    </tr>\n",
    "    <tr>\n",
    "        <td><i>CDC10</i></td>\n",
    "        <td>-219.10</td>\n",
    "        <td>-233.10</td>\n",
    "        <td>-241.74</td>\n",
    "        <td>-252.97</td>\n",
    "    </tr>\n",
    "    <tr>\n",
    "        <td><i>GRX5</i></td>\n",
    "        <td>-143.00</td>\n",
    "        <td>-155.90</td>\n",
    "        <td>-157.35</td>\n",
    "        <td>-168.43</td>\n",
    "    </tr>\n",
    "    <tr>\n",
    "        <td><i>HIS3</i></td>\n",
    "        <td>-223.00</td>\n",
    "        <td>-220.90</td>\n",
    "        <td>-236.63</td>\n",
    "        <td>-184.27</td>\n",
    "    </tr>\n",
    "    <tr>\n",
    "        <td><i>NBP35</i></td>\n",
    "        <td>-309.17</td>\n",
    "        <td>-354.70</td>\n",
    "        <td>-332.86</td>\n",
    "        <td>-380.01</td>\n",
    "    </tr>\n",
    "    <tr>\n",
    "        <td><i>RAS2</i></td>\n",
    "        <td>-309.70</td>\n",
    "        <td>-309.40</td>\n",
    "        <td>-332.94</td>\n",
    "        <td>-331.65</td>\n",
    "    </tr>\n",
    "    <tr>\n",
    "        <td><i>SUP35</i></td>\n",
    "        <td>-539.70</td>\n",
    "        <td>-580.30</td>\n",
    "        <td>-583.03</td>\n",
    "        <td>-618.10</td>\n",
    "    </tr>\n",
    "</table>"
   ]
  },
  {
   "cell_type": "code",
   "execution_count": 2,
   "metadata": {},
   "outputs": [],
   "source": [
    "sec_result = pd.read_csv('_Data/An_opt_Secondary_Structure.csv')\n",
    "MFE_ratio = sec_result.MFE_opt / sec_result.MFE_wt\n",
    "sec_result['MFE_ratio'] = MFE_ratio"
   ]
  },
  {
   "cell_type": "markdown",
   "metadata": {
    "collapsed": true
   },
   "source": [
    "<h2>Transcript level differences</h2>\n",
    "<p>Transcript levels were analysed by qRT-PCR, selecting primers that annealed to nucleotide runs identical between the wt and opt versions of the genes. qRT-PCR reactions were run using one-step <a href=\"https://www.qiagen.com/gb/shop/pcr/real-time-pcr-enzymes-and-kits/one-step-qrt-pcr/quantifast-sybr-green-rt-pcr-kit/#orderinginformation\" target=_blank>QuantiFast SYBR Green RT-PCR Kits</a> with a 2-step protocol on a BioRad C1000. A Ct threshold was set in the logarithmic amplification range of the reactions and Ct values manually exported using the manufacturer's software.</p>"
   ]
  },
  {
   "cell_type": "code",
   "execution_count": 3,
   "metadata": {},
   "outputs": [],
   "source": [
    "#load the function 'process_qPCR()' from script 'process_qPCR.py'\n",
    "%run _Scripts/process_qPCR.py\n",
    "\n",
    "if 'qPCR_result' in locals(): del qPCR_result\n",
    "\n",
    "files_to_process = ['_Data/An_opt_qPCR_1.csv','_Data/An_opt_qPCR_2.csv','_Data/An_opt_qPCR_3.csv','_Data/An_opt_qPCR_4.csv']\n",
    "\n",
    "for file in files_to_process:\n",
    "    this_qPCR = pd.read_csv(file)\n",
    "    this_result = process_qPCR(this_qPCR)\n",
    "    if 'result' in locals():\n",
    "        result = pd.concat([result,this_result])\n",
    "    else:\n",
    "        result = this_result\n",
    "\n",
    "qPCR_result = result.reset_index(drop=True)        "
   ]
  },
  {
   "cell_type": "markdown",
   "metadata": {},
   "source": [
    "<h2>Protein level differences</h2>\n",
    "<p>Protein levels were analysed by western blotting. Band densities were evaluated in <a href=\"https://imagej.nih.gov/ij/download.html\" target=_blank>ImageJ</a>.</p>"
   ]
  },
  {
   "cell_type": "code",
   "execution_count": 4,
   "metadata": {},
   "outputs": [],
   "source": [
    "#load the function 'process_blot()' from script 'process_blots.py\n",
    "%run _Scripts/process_blots.py\n",
    "\n",
    "blots = pd.read_csv('_Data/An_opt_Blot_Results.csv')\n",
    "blot_result = process_blot(blots)\n",
    "\n",
    "#load the HIS3 data from Chu et al 2014 and concatenate with the new data\n",
    "his = pd.read_csv('_Data/Lit_Chu_et_al_2014_His3_ratios.csv')\n",
    "blot_result = pd.concat([blot_result, his])\n"
   ]
  },
  {
   "cell_type": "markdown",
   "metadata": {},
   "source": [
    "<h2>Generate plots</h2>\n",
    "<p>This plots the predicted changes in secondary structure, and measured changes in transcript and protein levels, for each analysed gene, normalised to expression levels of the corresponding wt (non-optimised) gene.</p>"
   ]
  },
  {
   "cell_type": "code",
   "execution_count": 5,
   "metadata": {},
   "outputs": [
    {
     "name": "stderr",
     "output_type": "stream",
     "text": [
      "/home/tobias/anaconda3/lib/python3.6/site-packages/scipy/stats/stats.py:1713: FutureWarning: Using a non-tuple sequence for multidimensional indexing is deprecated; use `arr[tuple(seq)]` instead of `arr[seq]`. In the future this will be interpreted as an array index, `arr[np.array(seq)]`, which will result either in an error or a different result.\n",
      "  return np.add.reduce(sorted[indexer] * weights, axis=axis) / sumval\n"
     ]
    },
    {
     "data": {
      "image/png": "[encoded data removed]",
      "text/plain": [
       "<matplotlib.figure.Figure at 0x7f49e9b5ef98>"
      ]
     },
     "metadata": {
      "needs_background": "light"
     },
     "output_type": "display_data"
    }
   ],
   "source": [
    "#select gene to plot. Allowed values for gene are 'ADE2','CDC10',GRX5','HIS3','NBP35',RAS2','SUP35'\n",
    "gene = 'ADE2'\n",
    "\n",
    "measurements, results = [],[]\n",
    "\n",
    "measurements.append('MFE')\n",
    "results.append(sec_result.loc[sec_result.Gene == gene].MFE_ratio.values[0])\n",
    "\n",
    "qPCRs = qPCR_result.loc[qPCR_result.Clone == 'max' + gene]\n",
    "for row in range(qPCRs.shape[0]):\n",
    "    measurements.append('transcript')\n",
    "    results.append(qPCRs.iloc[row].fold_change_wt)\n",
    "\n",
    "blots = blot_result.loc[blot_result.Sample == gene]\n",
    "for row in range(blots.shape[0]):\n",
    "    measurements.append('protein')\n",
    "    results.append(blots.iloc[row].protein_fold_change)\n",
    "    \n",
    "this_gene = pd.DataFrame({'Measurement':measurements,'Results':results})\n",
    "\n",
    "ax = sns.barplot(x='Measurement',y='Results',data=this_gene,ci=68)\n",
    "ax.set(xlabel='', ylabel='fold change opt vs. wt')\n",
    "ax.set(ylim=(0,6))\n",
    "#plt.savefig(gene + '_barplot.svg')\n",
    "\n",
    "plt.show()\n"
   ]
  },
  {
   "cell_type": "code",
   "execution_count": null,
   "metadata": {},
   "outputs": [],
   "source": []
  }
 ],
 "metadata": {
  "kernelspec": {
   "display_name": "Python 3",
   "language": "python",
   "name": "python3"
  },
  "language_info": {
   "codemirror_mode": {
    "name": "ipython",
    "version": 3
   },
   "file_extension": ".py",
   "mimetype": "text/x-python",
   "name": "python",
   "nbconvert_exporter": "python",
   "pygments_lexer": "ipython3",
   "version": "3.6.6"
  }
 },
 "nbformat": 4,
 "nbformat_minor": 2
}
