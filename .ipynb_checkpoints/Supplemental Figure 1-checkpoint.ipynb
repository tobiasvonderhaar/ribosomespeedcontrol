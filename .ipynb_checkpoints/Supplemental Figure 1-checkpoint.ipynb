{
 "cells": [
  {
   "cell_type": "code",
   "execution_count": 1,
   "metadata": {},
   "outputs": [],
   "source": [
    "import pandas as pd\n",
    "import matplotlib.pyplot as plt\n",
    "from scipy.stats import fisher_exact"
   ]
  },
  {
   "cell_type": "markdown",
   "metadata": {
    "collapsed": true
   },
   "source": [
    "<h2>uORFs in the \"second SSU peak\" set of mRNAs</h2>\n",
    "<p>One of the features that could potentially interfere with the detection of waiting SSUs is the presence of uORFs, where SSU footprints would be expected before the main AUG codon without any queueing occurring. This section analyses how apparent waiting SSUs interact with the presence of uORFs. uORF information is retrieved from the compilation by <a href='https://www.ncbi.nlm.nih.gov/pubmed/19213877' target=_blank>Ingolia <i>et al.</i> 2009</a></p>"
   ]
  },
  {
   "cell_type": "code",
   "execution_count": 2,
   "metadata": {},
   "outputs": [],
   "source": [
    "#Add uORF information from Ingolia et al.\n",
    "uORF_data = pd.read_csv('_Data/Lit_Ingolia_2009_uORFs.csv')\n",
    "dataset = pd.read_csv('_Data/An_firstTenNew_SSU.csv',index_col='ORF')\n",
    "uORFs=[]\n",
    "\n",
    "for gene in dataset.index:\n",
    "    if gene in uORF_data.CDS.values:\n",
    "        uORFs.append(True)\n",
    "    else:\n",
    "        uORFs.append(False)\n",
    "\n",
    "dataset['uORF'] = uORFs"
   ]
  },
  {
   "cell_type": "markdown",
   "metadata": {},
   "source": [
    "<h2>Are genes annotated as having a second SSU enriched for uORFs?</h2>"
   ]
  },
  {
   "cell_type": "code",
   "execution_count": 3,
   "metadata": {},
   "outputs": [
    {
     "name": "stdout",
     "output_type": "stream",
     "text": [
      "Out of 855 genes with an apparent waiting SSU peak, 82 also contain uoRFs.\n",
      "Out of 5038 genes without an apparent waiting SSU peak, 515 contain uoRFs.\n",
      "p = 0.67 by Fisher's exact test.\n"
     ]
    }
   ],
   "source": [
    "Genes_with_SSU = dataset.second_SSU_peak.sum()\n",
    "Genes_without_SSU = dataset.shape[0] - dataset.second_SSU_peak.sum()\n",
    "Genes_with_SSU_and_uORF = dataset.loc[dataset['second_SSU_peak'] == True].uORF.sum()\n",
    "Genes_without_SSU_and_uORF = dataset.loc[dataset['second_SSU_peak'] == False].uORF.sum()\n",
    "print('Out of ' + str(Genes_with_SSU) + ' genes with an apparent waiting SSU peak, ' + str(Genes_with_SSU_and_uORF) + ' also contain uoRFs.')\n",
    "print('Out of ' + str(Genes_without_SSU) + ' genes without an apparent waiting SSU peak, ' + str(Genes_without_SSU_and_uORF) + ' contain uoRFs.')\n",
    "\n",
    "oddsratio, pvalue = fisher_exact([[Genes_with_SSU, Genes_with_SSU_and_uORF], [Genes_without_SSU, Genes_without_SSU_and_uORF]]) \n",
    "print('p = ' + \"{:4.2f}\".format(pvalue) + ' by Fisher\\'s exact test.')"
   ]
  },
  {
   "cell_type": "markdown",
   "metadata": {},
   "source": [
    "<h2>For how many of the second SSU genes is the uORF in a position where it could cause issues?</h2>\n",
    "<p>For these analyses, 5'-UTR sequences of the genes of interst were retrieved from <a href='https://www.yeastgenome.org/' target=_blank>SGD</a></p>"
   ]
  },
  {
   "cell_type": "code",
   "execution_count": 4,
   "metadata": {},
   "outputs": [
    {
     "data": {
      "image/png": "[encoded data removed]",
      "text/plain": [
       "<matplotlib.figure.Figure at 0x7fc24f7b98d0>"
      ]
     },
     "metadata": {
      "needs_background": "light"
     },
     "output_type": "display_data"
    },
    {
     "name": "stdout",
     "output_type": "stream",
     "text": [
      "35.4% of uORF starts are in the -60 to -15 window for waiting SSUs (indicated by the red line in the graph)\n",
      "18.3% of uORF starts are outside the -200 limit used in the analyses\n"
     ]
    }
   ],
   "source": [
    "uORF_positions=pd.read_csv('_Data/An_uORF_positions.csv')\n",
    "\n",
    "plt.hist(uORF_positions['uORF_pos'],color='Dimgrey')\n",
    "plt.plot((-15,-60),(2.5,2.5),linewidth=10,c='red')\n",
    "plt.ylabel('number of genes')\n",
    "plt.xlabel('First uORF coordinate relative to start')\n",
    "#plt.savefig('uORF_positions_in_waiting_SSU_genes.svg')\n",
    "plt.show()\n",
    "\n",
    "\n",
    "proportion_in_window = uORF_positions.loc[uORF_positions['uORF_pos'] > -60]['uORF_pos'].count() / uORF_positions['uORF_pos'].count() * 100\n",
    "proportion_outside_reference = uORF_positions.loc[uORF_positions['uORF_pos'] < -200]['uORF_pos'].count() / uORF_positions['uORF_pos'].count() * 100\n",
    "print(\"{:4.1f}\".format(proportion_in_window) + '% of uORF starts are in the -60 to -15 window for waiting SSUs '\n",
    "      '(indicated by the red line in the graph)')\n",
    "print(\"{:4.1f}\".format(proportion_outside_reference) + '% of uORF starts are outside the ' \n",
    "      '-200 limit used in the analyses')"
   ]
  },
  {
   "cell_type": "code",
   "execution_count": null,
   "metadata": {},
   "outputs": [],
   "source": []
  }
 ],
 "metadata": {
  "kernelspec": {
   "display_name": "Python 3",
   "language": "python",
   "name": "python3"
  },
  "language_info": {
   "codemirror_mode": {
    "name": "ipython",
    "version": 3
   },
   "file_extension": ".py",
   "mimetype": "text/x-python",
   "name": "python",
   "nbconvert_exporter": "python",
   "pygments_lexer": "ipython3",
   "version": "3.6.6"
  }
 },
 "nbformat": 4,
 "nbformat_minor": 2
}
