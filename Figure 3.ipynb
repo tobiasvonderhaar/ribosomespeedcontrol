{
 "cells": [
  {
   "cell_type": "code",
   "execution_count": 1,
   "metadata": {},
   "outputs": [
    {
     "name": "stderr",
     "output_type": "stream",
     "text": [
      "/home/tobias/anaconda3/lib/python3.6/site-packages/sklearn/ensemble/weight_boosting.py:29: DeprecationWarning: numpy.core.umath_tests is an internal NumPy module and should not be imported. It will be removed in a future NumPy release.\n",
      "  from numpy.core.umath_tests import inner1d\n"
     ]
    }
   ],
   "source": [
    "#prepare imports etc\n",
    "import pandas as pd\n",
    "import numpy as np\n",
    "import matplotlib.pyplot as plt\n",
    "from sklearn.model_selection import train_test_split\n",
    "from sklearn.ensemble import ExtraTreesClassifier\n",
    "from sklearn.preprocessing import StandardScaler\n",
    "from sklearn.pipeline import make_pipeline\n",
    "from sklearn.metrics import accuracy_score\n",
    "\n",
    "%matplotlib inline"
   ]
  },
  {
   "cell_type": "markdown",
   "metadata": {},
   "source": [
    "<h1>Feature selection: What determines the height of queueing SSU peaks?</h1>\n",
    "<p>This notebook analyses i how far the mRNA classification into sets with or without queuing SSU peaks is predictable from mRNA features. Features were compiled from a range of literature data, the comilation from source data into the compiled data set was done using the script 'feature_compilation.py'. The output of this script is stored in file <a href='_Data/An_mRNA_Feature_Compilation.csv' target=_blank>'An_mRNA_Feature_Compilation.csv'</a> Features selected for inclusion in the final analysis are:</p>\n",
    "<ul>\n",
    "    <li><b>5' UTR length:</b> Determined as the longest 5' UTR length reported in any of the three studies by <a href='https://www.ncbi.nlm.nih.gov/pubmed/17101987' target=_blank>Miura <i>et al.</i> 2006</a>, <a href='https://www.ncbi.nlm.nih.gov/pubmed/18451266' target=_blank>Nagalakshmi <i>et al.</i> 2008</a> and <a href='https://www.ncbi.nlm.nih.gov/pubmed/23390610' target=_blank>Waern and Snyder 2013</a>.</li>\n",
    "    <li><b>uORF presence:</b> Compiled from supplemental material in <a href='https://www.ncbi.nlm.nih.gov/pubmed/19213877' target=_blank>Ingolia <i> et al.</i> 2009</a>.</li>\n",
    "    <li><b>Secondary Structure:</b> From RNA-specific PARS scores reported by <a href='https://www.ncbi.nlm.nih.gov/pubmed/20811459' target=_blank> Kertesz <i>et al.</i> 2010</a> by integrating the nucleotide-resolution PARS scores along the sequence and normalising by sequence length.</li>\n",
    "    <li><b>Initiation rate:</b> Data were generated in <a href='https://www.ncbi.nlm.nih.gov/pubmed/23382661' target=_blank>Ciandrini <i>et al.</i> 2013</a> by fitting observed ribosome footprinting densities to computational models of ribosome movement.</li>\n",
    "    <li><b>ORF length:</b> on codons, determined from the systematic <a href='https://downloads.yeastgenome.org/sequence/S288C_reference/orf_protein/' target=_blank>protein list</a> for the S288C reference genome.</li>\n",
    "    <li><b>Intron presence:</b> Determined by comparing the 'genomic' and 'coding' entries for each gene in the <a href='https://downloads.yeastgenome.org/sequence/S288C_reference/orf_dna/' target=_blank>gene list</a> for the S288C reference genome.</li>\n",
    "    <li><b>Decoding speed:</b> Determined as the decoding speed of the slowest 20 codon stretch in a gene, based on decoding times reported in <a href='https://www.ncbi.nlm.nih.gov/pubmed/24357599' target=_blank>Chu <i>et al.</i> 2014</a>.</li>\n",
    "    <li><b>3' UTR length:</b> Determined as the longest 3' UTR length reported in any of the two studies by <a href='https://www.ncbi.nlm.nih.gov/pubmed/18451266' target=_blank>Nagalakshmi <i>et al.</i> 2008</a> and <a href='https://www.ncbi.nlm.nih.gov/pubmed/23390610' target=_blank>Waern and Snyder 2013</a>.</li></li>\n",
    "    <li><b>Poly proline runs:</b> Length of the longest run of proline residues in the protein sequence, determined from the systematic <a href='https://downloads.yeastgenome.org/sequence/S288C_reference/orf_protein/' target=_blank>protein list</a> for the S288C reference genome.</li>\n",
    "    <li><b>Positive charge runs:</b> Length of the longest run of consecutive lysine or arginine residues, determined from the systematic <a href='https://downloads.yeastgenome.org/sequence/S288C_reference/orf_protein/' target=_blank>protein list</a> for the S288C reference genome.</li>\n",
    "</ul>"
   ]
  },
  {
   "cell_type": "code",
   "execution_count": 2,
   "metadata": {},
   "outputs": [],
   "source": [
    "feature_frame = pd.read_csv('_Data/An_mRNA_Feature_Compilation.csv').set_index('Gene')\n",
    "#remove any entries where the 5'-UTR is <45 nt, where no second footprint is observable\n",
    "feature_frame = feature_frame.loc[feature_frame['5_UTR']>45]\n",
    "#replace any nans with 0\n",
    "feature_frame = feature_frame.fillna(0)\n",
    "#select the set of features to use in the lasso analysis\n",
    "selected_features = ['5_UTR','uORF','Structure','InitC','Length','Intron','minSpeed','3_UTR','poly_P','poly_KR']\n",
    "X = np.array(feature_frame[selected_features])"
   ]
  },
  {
   "cell_type": "markdown",
   "metadata": {},
   "source": [
    "<h1>Classification</h1>"
   ]
  },
  {
   "cell_type": "code",
   "execution_count": 3,
   "metadata": {},
   "outputs": [
    {
     "data": {
      "image/png": "[encoded data removed]",
      "text/plain": [
       "<matplotlib.figure.Figure at 0x7f30e9173160>"
      ]
     },
     "metadata": {
      "needs_background": "light"
     },
     "output_type": "display_data"
    }
   ],
   "source": [
    "#select the categorical targets (Peak Calls) for this analysis\n",
    "y_cat = np.array(feature_frame['PeakCall'])\n",
    "\n",
    "X_train, X_test, y_train, y_test = train_test_split(X, y_cat, test_size=0.25,random_state=42)\n",
    "\n",
    "#construct and apply a pipeline that scales the data and fits the Extra Trees Classifier\n",
    "scaler = StandardScaler()\n",
    "clf = ExtraTreesClassifier(n_estimators=10,random_state=24)\n",
    "cat_pipeline = make_pipeline(scaler, clf)\n",
    "cat_pipeline.fit(X_train,y_train)\n",
    "\n",
    "#normalise coefficents\n",
    "coefs = abs(clf.feature_importances_) / sum(clf.feature_importances_  )\n",
    "\n",
    "#Construct human readable labels\n",
    "labels = ['5\\' UTR length','uORF presence','secondary \\n Structure','Initiation rate','ORF Length','Intron pesence','Decoding Speed','3\\' UTR length','poly proline runs','positively \\n charged runs']\n",
    "\n",
    "#determine the accuracy of the prediction\n",
    "y_pred = cat_pipeline.predict(X_test)\n",
    "\n",
    "plt.close()\n",
    "fig,ax = plt.subplots()\n",
    "x = np.arange(len(labels))\n",
    "ax.bar(x, coefs,color='Dimgrey')\n",
    "ax.set_xticks(x)\n",
    "ax.set_xticklabels(labels)\n",
    "plt.title('Accuracy = ' + \"{:4.2f}\".format(accuracy_score(y_test,y_pred)))\n",
    "plt.xticks(rotation='vertical')\n",
    "plt.ylabel('Normalised Feature Importance')\n",
    "plt.xlabel('Feature')\n",
    "#plt.savefig('Features.svg')\n",
    "plt.show()"
   ]
  },
  {
   "cell_type": "code",
   "execution_count": null,
   "metadata": {
    "collapsed": true
   },
   "outputs": [],
   "source": []
  }
 ],
 "metadata": {
  "kernelspec": {
   "display_name": "Python 3",
   "language": "python",
   "name": "python3"
  },
  "language_info": {
   "codemirror_mode": {
    "name": "ipython",
    "version": 3
   },
   "file_extension": ".py",
   "mimetype": "text/x-python",
   "name": "python",
   "nbconvert_exporter": "python",
   "pygments_lexer": "ipython3",
   "version": "3.6.6"
  }
 },
 "nbformat": 4,
 "nbformat_minor": 2
}
